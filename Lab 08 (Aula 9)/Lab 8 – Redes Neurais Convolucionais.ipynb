{
  "cells": [
    {
      "cell_type": "markdown",
      "metadata": {
        "id": "VMr4A8qyFCPx"
      },
      "source": [
        "**Instituto Tecnológico de Aeronáutica – ITA**\n",
        "\n",
        "**Inteligência Artificial para Robótica Móvel – CT-213**\n",
        "\n",
        "**Professores:**\n",
        "\n",
        "Marcos Ricardo Omena de Albuquerque Maximo\n",
        "\n",
        "André Oliveira Françani\n",
        "\n",
        "\n",
        "# Laboratório 8 – Redes Neurais Convolucionais"
      ]
    },
    {
      "cell_type": "markdown",
      "metadata": {
        "id": "Gd-oVl8VFPUl"
      },
      "source": [
        "# 1. Introdução\n",
        "\n",
        "Nesse laboratório, seu objetivo é implementar, treinar e testar a rede neural LeNet-5 usando o dataset MNIST.  O MNIST consiste num conjunto grande de imagens anotadas de dígitos decimais escritos à mão. Assim, você reproduzirá um trabalho clássico da Literatura de Redes Neurais Convolucionais (CNNs), que foi realizado originalmente por Yann LeCun. A Figura 1 apresenta uma das imagens do MNIST juntamente com o *label* esperado (de acordo com a anotação) e o *label* predito pela LeNet-5."
      ]
    },
    {
      "cell_type": "markdown",
      "metadata": {
        "id": "IwW1sumVFY95"
      },
      "source": [
        "<img src=\"data:image/png;base64,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\" width=\"600\">\n",
        "\n",
        "**Figura 1**: exemplo de dígito escrito à mão do *dataset* MNIST.\n"
      ]
    },
    {
      "cell_type": "markdown",
      "metadata": {
        "id": "cWSCBzV_F2O4"
      },
      "source": [
        "# 2. Descrição do Problema\n",
        "\n",
        "O problema a ser resolvido nesse laboratório é implementar, treinar e testar a rede LeNet-5 no *dataset* MNIST. Para isso, você deve usar a *framework* Keras com *backend* Tensorflow. A Tabela 1 apresenta uma descrição da rede LeNet-5. A entrada da rede é (32, 32, 1), em que os números representam largura, altura e número de canais de cor da imagem, respectivamente. Para ajuda em como implementar cada uma dessas camadas usando Keras, recomenda-se verificar a Seção 6 (Dicas). Além disso, destaca-se que o aluno pode encontrar algumas interpretações mais modernas da LeNet-5 na Internet, mas pede-se para implementar a arquitetura dessa rede conforme descrito na Tabela 1.\n",
        "\n",
        "\n",
        "|**Camada**|**Tipo**|**Número de Filtros**|**Tamanho da Saída**|**Tamanho do Kernel**|***Stride***|***Activation Function***|\n",
        "|:------|:----------------|:--|:----|:---|:-|:------|\n",
        "|Entrada|Imagem           |1  |32x32|-   |- |-      |\n",
        "|1      |Conv2D           |6  |28x28|5x5 |1 |tanh   |\n",
        "|2      |AveragePooling2D |6  |14x14|2x2 |2 |-      |\n",
        "|3      |Conv2D           |16 |10x10|5x5 |1 |tanh   |\n",
        "|4      |AveragePooling2D |16 |5x5  |2x2 |2 |-      |\n",
        "|5      |Conv2D           |120|1x1  |5x5 |1 |tanh   |\n",
        "|6      |*Dense* (FC)     |-  |84   |-   |- |tanh   |\n",
        "|7      |*Dense* (FC)     |-  |10   |-   |- |softmax|\n",
        "\n",
        "<p align=\"center\">\n",
        "<b>Tabela 1</b>: arquitetura da LeNet-5. </p>"
      ]
    },
    {
      "cell_type": "markdown",
      "metadata": {
        "id": "znzLaqfQH2c9"
      },
      "source": [
        "# 3. Código Base\n",
        "\n",
        "O código base fornece diversas implementações para facilitar o uso do NMIST e o treinamento e avaliação da LeNet-5. Você precisa apenas editar a Seção 4.3, onde deve ser implementada a LeNet-5.\n"
      ]
    },
    {
      "cell_type": "markdown",
      "metadata": {
        "id": "WD5di_94I2t1"
      },
      "source": [
        "# 4. Tarefas"
      ]
    },
    {
      "cell_type": "markdown",
      "metadata": {
        "id": "Kgv1lvkHKUyV"
      },
      "source": [
        "Comece o laboratório executando a célula abaixo com algumas funções auxiliares. As funções são utilizadas para ler a base de dados MNIST, visualizar uma imagem, salvar o modelo treinado e carregar um modelo já treinado. **Não há necessidade de alterá-las**."
      ]
    },
    {
      "cell_type": "code",
      "execution_count": 16,
      "metadata": {
        "id": "CSlXZ8iTKKqE"
      },
      "outputs": [],
      "source": [
        "import gzip\n",
        "import numpy as np\n",
        "from tensorflow.keras.models import model_from_json\n",
        "import matplotlib.pyplot as plt\n",
        "\n",
        "\n",
        "def read_mnist(images_path, labels_path):\n",
        "    with gzip.open(labels_path, 'rb') as labelsFile:\n",
        "        labels = np.frombuffer(labelsFile.read(), dtype=np.uint8, offset=8)\n",
        "\n",
        "    with gzip.open(images_path, 'rb') as imagesFile:\n",
        "        length = len(labels)\n",
        "        # Load flat 28x28 px images (784 px), and convert them to 28x28 px\n",
        "        features = np.frombuffer(imagesFile.read(), dtype=np.uint8, offset=16) \\\n",
        "            .reshape(length, 784) \\\n",
        "            .reshape(length, 28, 28, 1)\n",
        "\n",
        "    # Pad images with 0s\n",
        "    features = np.pad(features, ((0, 0), (2, 2), (2, 2), (0, 0)), 'constant')\n",
        "\n",
        "    return features, labels\n",
        "\n",
        "\n",
        "def display_image(image, title):\n",
        "    image = image.squeeze()\n",
        "    plt.figure()\n",
        "    plt.title(title)\n",
        "    plt.imshow(image, cmap=plt.cm.gray_r)\n",
        "\n",
        "\n",
        "def save_model_to_json(model, model_name):\n",
        "    # serialize model to JSON\n",
        "    model_json = model.to_json()\n",
        "    with open(model_name + '.json', 'w') as json_file:\n",
        "        json_file.write(model_json)\n",
        "    # serialize weights to HDF5\n",
        "    model.save_weights(model_name + '.h5')\n",
        "\n",
        "\n",
        "def load_model_from_json(model_name):\n",
        "    json_file = open(model_name + '.json', 'r')\n",
        "    loaded_model_json = json_file.read()\n",
        "    json_file.close()\n",
        "    loaded_model = model_from_json(loaded_model_json)\n",
        "    # load weights into new model\n",
        "    loaded_model.load_weights(model_name + '.h5')\n",
        "    return loaded_model"
      ]
    },
    {
      "cell_type": "markdown",
      "metadata": {
        "id": "Ow6m-OXBI68N"
      },
      "source": [
        "## 4.1.\t*Download* do NMIST\n",
        "\n",
        "Execute a célula abaixo para fazer o *download* do MNIST. 4 arquivos devem ser baixados:\n",
        "\n",
        "- train-images-idx3-ubyte.gz:  *training set images* (9912422 *bytes*).\n",
        "- train-labels-idx1-ubyte.gz:  *training set labels* (28881 *bytes*).\n",
        "- t10k-images-idx3-ubyte.gz:   *test set images* (1648877 *bytes*).\n",
        "- t10k-labels-idx1-ubyte.gz:   *test set labels* (4542 *bytes*).\n"
      ]
    },
    {
      "cell_type": "code",
      "execution_count": null,
      "metadata": {
        "id": "WcA4L5l7JUBd"
      },
      "outputs": [],
      "source": [
        "!gdown 1KChLOaAQ3mir1y6GllWepKHQ37TPtyGN\n",
        "!gdown 16uGY7aSmUISTnGRsfgnCMr49fPblpZ_R\n",
        "!gdown 1dbejZp5yA0vxNEPZqEXFnW2M3Maiktvk\n",
        "!gdown 1-gO8pKMDGTlVJ0pl0BUosiZXTEUKQdR8"
      ]
    },
    {
      "cell_type": "markdown",
      "metadata": {
        "id": "Yv66QbkpJgVu"
      },
      "source": [
        "## 4.2.\tExploração do NMIST\n",
        "\n",
        "Execute o a célula abaixo para explorar o NMIST. Alguns dados sobre o *training* e *test sets* serão mostradas. Além disso, são mostradas algumas imagens aleatórias. **Não há necessidade de incluir essas imagens no seu relatório**.\n"
      ]
    },
    {
      "cell_type": "code",
      "execution_count": null,
      "metadata": {
        "id": "AkgSeqGSJtV8"
      },
      "outputs": [],
      "source": [
        "import random\n",
        "import matplotlib.pyplot as plt\n",
        "\n",
        "\n",
        "NUM_IMAGES = 10\n",
        "\n",
        "train_features, train_labels = read_mnist('train-images-idx3-ubyte.gz', 'train-labels-idx1-ubyte.gz')\n",
        "test_features, test_labels = read_mnist('t10k-images-idx3-ubyte.gz', 't10k-labels-idx1-ubyte.gz')\n",
        "\n",
        "print('# of training images:', train_features.shape[0])\n",
        "print('# of test images:', test_features.shape[0])\n",
        "\n",
        "for i in range(NUM_IMAGES):\n",
        "    index = random.randint(0, train_features.shape[0])\n",
        "    display_image(train_features[index], 'Example: %d. Label: %d' % (index, train_labels[index]))\n",
        "\n",
        "plt.show()"
      ]
    },
    {
      "cell_type": "markdown",
      "metadata": {
        "id": "xk1NswNtLUkQ"
      },
      "source": [
        "## 4.3. Implementação da LeNet-5\n",
        "\n",
        "Usando Keras, implemente a arquitetura LeNet-5 de acordo com a arquitetura apresentada na Tabela 1. Há dicas na Seção 6 para te ajudar. **Observações**:\n",
        "\n",
        "- Não há necessidade de se preocupar com regularização ou normalização para o correto treinamento da rede.\n",
        "\n",
        "- A implementação da LeNet-5 é muito simples usando Keras. Serão poucas linhas de código.\n",
        "\n",
        "- Como essa é uma rede muito clássica, há diversos lugares na *Internet* com implementações dela. Porém, recomendo que você tente implementar você mesmo a rede ao invés de procurar código já pronto. Além disso, perceba que a rede deve ser implementada exatamente conforme mostrado na Tabela 1.\n"
      ]
    },
    {
      "cell_type": "code",
      "execution_count": null,
      "metadata": {
        "id": "KDBC9lR1LmJs"
      },
      "outputs": [],
      "source": [
        "from tensorflow.keras import layers, activations\n",
        "from tensorflow.keras.models import Sequential\n",
        "\n",
        "\n",
        "def make_lenet5():\n",
        "    model = Sequential()\n",
        "    \n",
        "    #1 Convolution layer\n",
        "    model.add(layers.Conv2D(filters=6, kernel_size=(5,5), strides=(1,1), activation=activations.tanh, input_shape=(32,32,1)))\n",
        "    \n",
        "    #2 AveragePooling2D layer\n",
        "    model.add(layers.AveragePooling2D(pool_size=(2,2), strides=(2,2)))\n",
        "    \n",
        "    #3 Convolution2D layer\n",
        "    model.add(layers.Conv2D(filters=16, kernel_size=(5,5), strides=(1,1), activation=activations.tanh))\n",
        "    \n",
        "    #4 AveragePooling2D layer\n",
        "    model.add(layers.AveragePooling2D(pool_size=(2,2), strides=(2,2)))\n",
        "    \n",
        "    #5 Convolution2D layer\n",
        "    model.add(layers.Conv2D(filters=120, kernel_size=(5,5), strides=(1,1), activation=activations.tanh))\n",
        "    \n",
        "    #6 Dense (FC) layer\n",
        "    model.add(layers.Flatten())\n",
        "    model.add(layers.Dense(units=84, activation=activations.tanh))\n",
        "    \n",
        "    #7 Dense (FC) layer\n",
        "    model.add(layers.Dense(units=10, activation=activations.softmax))\n",
        "    \n",
        "\n",
        "    return model"
      ]
    },
    {
      "cell_type": "markdown",
      "metadata": {
        "id": "oLW3y8LLMnOi"
      },
      "source": [
        "## 4.4. Treinamento da LeNet-5\n",
        "\n",
        "Treine a LeNet-5 implementada. Leia o código fornecido e tente entender o que está sendo feito. Perceba que a implementação separa o *training set* original, deixando algumas imagens para um *(cross-)validation set*.\n",
        "\n",
        "Para verificar o treinamento da rede, você deve executar o Tensorboard **antes de iniciar o treinamento**. Em seguida, execute a célula de treinamento da rede, atualize a interface do TensorBoard clicando na setinha no canto superior direito (🔁). Para visualizar os novos pontos salvos no *log* do treinamento, vá atualizando a interface ao fim de cada *epoch*.  \n",
        "\n",
        "Coloque imagens do Tensorboard mostrando a evolução do treinamento no seu relatório (pode tirar *print screen* dos gráficos do Tensorboard). Discuta os resultados obtidos.\n"
      ]
    },
    {
      "cell_type": "code",
      "execution_count": null,
      "metadata": {
        "id": "t0zaJfYiOqPB"
      },
      "outputs": [],
      "source": [
        "# Load the TensorBoard notebook extension\n",
        "%load_ext tensorboard"
      ]
    },
    {
      "cell_type": "code",
      "execution_count": null,
      "metadata": {
        "id": "FOBlSwTjOrJ2"
      },
      "outputs": [],
      "source": [
        "%tensorboard --logdir logs"
      ]
    },
    {
      "cell_type": "markdown",
      "metadata": {
        "id": "aWMLSTCAPcGw"
      },
      "source": [
        "### Treinamento da LeNet-5\n"
      ]
    },
    {
      "cell_type": "code",
      "execution_count": null,
      "metadata": {
        "id": "PrNVE8q2Nyq4"
      },
      "outputs": [],
      "source": [
        "import os\n",
        "from time import time\n",
        "\n",
        "from sklearn.model_selection import train_test_split\n",
        "from tensorflow import keras\n",
        "from tensorflow.keras.preprocessing.image import ImageDataGenerator\n",
        "from tensorflow.keras.utils import to_categorical\n",
        "from tensorflow.keras.callbacks import TensorBoard\n",
        "\n",
        "\n",
        "# Comment this line to enable training using your GPU\n",
        "# os.environ['CUDA_VISIBLE_DEVICES'] = '-1'\n",
        "\n",
        "EPOCHS = 10\n",
        "BATCH_SIZE = 128\n",
        "\n",
        "# Load and split data\n",
        "train_features, train_labels = read_mnist('train-images-idx3-ubyte.gz', 'train-labels-idx1-ubyte.gz')\n",
        "\n",
        "train_features, validation_features, train_labels, validation_labels = \\\n",
        "    train_test_split(train_features, train_labels, test_size=0.2, random_state=0)\n",
        "\n",
        "print('# of training images:', train_features.shape[0])\n",
        "print('# of cross-validation images:', validation_features.shape[0])\n",
        "\n",
        "# Pre-processing data and build generator\n",
        "X_train, y_train = train_features, to_categorical(train_labels)\n",
        "X_validation, y_validation = validation_features, to_categorical(validation_labels)\n",
        "\n",
        "train_generator = ImageDataGenerator().flow(X_train, y_train, batch_size=BATCH_SIZE)\n",
        "validation_generator = ImageDataGenerator().flow(X_validation, y_validation, batch_size=BATCH_SIZE)\n",
        "\n",
        "# Build and compile model\n",
        "model = make_lenet5()\n",
        "model.summary()\n",
        "model.compile(loss=keras.losses.categorical_crossentropy, optimizer=keras.optimizers.Adam(), metrics=['accuracy'])\n",
        "\n",
        "steps_per_epoch = X_train.shape[0] // BATCH_SIZE\n",
        "validation_steps = X_validation.shape[0] // BATCH_SIZE\n",
        "\n",
        "# Start training\n",
        "tensorboard = TensorBoard(log_dir=os.path.join(\"logs\", \"{}\".format(time())))\n",
        "model.fit(train_generator, steps_per_epoch=steps_per_epoch, epochs=EPOCHS,\n",
        "          validation_data=validation_generator, validation_steps=validation_steps,\n",
        "          shuffle=True, callbacks=[tensorboard])\n",
        "\n",
        "save_model_to_json(model, 'lenet5.weights')"
      ]
    },
    {
      "cell_type": "markdown",
      "metadata": {
        "id": "5vw43UtJUIi8"
      },
      "source": [
        "## 4.5. Avaliação da LeNet-5\n",
        "\n",
        "Avalie a LeNet-5 no *test set* executando a célula abaixo. Além de exibir alguns exemplos aleatórios, incluindo o *label* anotado e o *label* predito pela LeNet-5, a implementação mostra alguns exemplos em que a rede errou a classificação. Inclua pelo menos um gráfico em que a predição da rede funcionou e outro em que ela errou a classificação no seu relatório. Comente os resultados obtidos.\n"
      ]
    },
    {
      "cell_type": "code",
      "execution_count": null,
      "metadata": {
        "id": "a5_we11SQ6zU"
      },
      "outputs": [],
      "source": [
        "import os\n",
        "import random\n",
        "import matplotlib.pyplot as plt\n",
        "import numpy as np\n",
        "\n",
        "from tensorflow import keras\n",
        "from tensorflow.keras.utils import to_categorical\n",
        "from tensorflow.keras.models import Sequential\n",
        "\n",
        "\n",
        "# make results folder to save images\n",
        "if not os.path.exists('results'):\n",
        "  os.makedirs('results')\n",
        "\n",
        "NUM_IMAGES_RANDOM = 5\n",
        "NUM_IMAGES_MISCLASSIFICATION = 5\n",
        "\n",
        "test_features, test_labels = read_mnist('t10k-images-idx3-ubyte.gz', 't10k-labels-idx1-ubyte.gz')\n",
        "\n",
        "model = load_model_from_json('lenet5.weights')\n",
        "model.summary()\n",
        "\n",
        "model.compile(loss=keras.losses.categorical_crossentropy, optimizer=keras.optimizers.Adam(), metrics=['accuracy'])\n",
        "\n",
        "predicted_labels = model.predict(test_features)\n",
        "score = model.evaluate(test_features, to_categorical(test_labels))\n",
        "print('Test loss:', score[0])\n",
        "print('Test accuracy:', score[1])\n",
        "\n",
        "for i in range(NUM_IMAGES_RANDOM):\n",
        "    index = random.randint(0, test_features.shape[0])\n",
        "    display_image(test_features[index],\n",
        "                  'Example: %d. Expected Label: %d. Predicted Label: %d.' %\n",
        "                  (index, test_labels[index], np.argmax(predicted_labels[index, :])))\n",
        "    plt.savefig('results/test_image_%d.png' % index, format='png')\n",
        "\n",
        "\n",
        "count = 0\n",
        "for i in range(test_features.shape[0]):\n",
        "    if count == NUM_IMAGES_MISCLASSIFICATION:\n",
        "        break\n",
        "    if np.argmax(predicted_labels[i, :]) != test_labels[i]:\n",
        "        display_image(test_features[i],\n",
        "                      'Example: %d. Expected Label: %d. Predicted Label: %d.' %\n",
        "                      (i, test_labels[i], np.argmax(predicted_labels[i, :])))\n",
        "        plt.savefig('results/misclassified_image_%d.png' % i, format='png')\n",
        "        count += 1\n",
        "\n",
        "plt.show()"
      ]
    },
    {
      "cell_type": "markdown",
      "metadata": {
        "id": "v1zRv3pkVg8p"
      },
      "source": [
        "# 5. Entrega\n",
        "\n",
        "A entrega consiste do notebook no formato **.ipynb** e de um relatório, submetida através do Google Classroom. Modificações nos arquivos do código base são permitidas, desde que o nome e a interface dos scripts “main” não sejam alterados. A princípio, não há limitação de número de páginas para o relatório, mas pede-se que seja sucinto. O relatório deve conter:\n",
        "\n",
        "- Breve descrição em alto nível da sua implementação.\n",
        "- Figuras que comprovem o funcionamento do seu código.\n",
        "\n",
        "Por limitações do Google Classroom (e por motivo de facilitar a automatização da correção), entregue seu laboratório com todos os arquivos num único arquivo **.zip** (**não** utilize outras tecnologias de compactação de arquivos) com o seguinte padrão de nome: **“<login_email_google_education>_labX.zip”**. Por exemplo, no meu caso, meu login Google Education é **marcos.maximo**, logo eu entregaria o lab 8 como **“marcos.maximo_lab8.zip”**. **Não** crie subpastas para os arquivos da sua entrega, **deixe todos os arquivos na “raiz” do .zip**. Os relatórios devem ser entregues em formato **.pdf**."
      ]
    },
    {
      "cell_type": "markdown",
      "metadata": {
        "id": "0G2sDt_mVtwu"
      },
      "source": [
        "# 6. Dicas\n",
        "\n",
        "- Para criar uma camada de convolução 2D no Keras, faça:\n",
        "```python\n",
        "model.add(layers.Conv2D(filters=nf, kernel_size=(fx, fy), strides=(sx, sy), activation=activations.fun))\n",
        "```\n",
        "em que nf, fx, fy, sx, sy e fun configuram a camada.\n",
        "\n",
        "- Para a primeira camada, também é importante definir o formato da entrada como um tensor de (32, 32, 1) (imagem de 32x32 e 1 canal de cor):\n",
        "```python\n",
        "model.add(layers.Conv2D(filters=nf, kernel_size=(fx, fy), strides=(sx, sy), activation=activations.fun, input_shape=(32, 32, 1)))\n",
        "```\n",
        "\n",
        "- Para criar uma camada de *average pooling* no Keras, faça:\n",
        "```python\n",
        "model.add(layers.AveragePooling2D(pool_size=(px, py), strides=(sx, sy)))\n",
        "```\n",
        "em que px, py, sx e sy configuram a camada.\n",
        "\n",
        "- Para definir a camada de transição entre as camadas convolucionais e as densas (completamente conectadas), a qual é a camada 5 na LeNet-5, faça o seguinte:\n",
        "```python\n",
        "model.add(layers.Flatten())\n",
        "model.add(layers.Dense(units=num_neurons, activation=activations.fun))\n",
        "```\n",
        "\n",
        "- Para fazer o download das figuras e usá-las no relatório, use os seguintes comandos:\n",
        "```python\n",
        "from google.colab import files\n",
        "import os\n",
        "os.system('zip -r lab8_results.zip results')\n",
        "files.download(\"lab8_results.zip\")\n",
        "```\n",
        "\n",
        "- Você pode também fazer o download dos logs, do modelo lenet5.json e dos pesos lenet5.h5 se quiser guardá-los."
      ]
    }
  ],
  "metadata": {
    "colab": {
      "provenance": []
    },
    "kernelspec": {
      "display_name": "lab8_env_tensorflow",
      "language": "python",
      "name": "python3"
    },
    "language_info": {
      "codemirror_mode": {
        "name": "ipython",
        "version": 3
      },
      "file_extension": ".py",
      "mimetype": "text/x-python",
      "name": "python",
      "nbconvert_exporter": "python",
      "pygments_lexer": "ipython3",
      "version": "3.10.0"
    }
  },
  "nbformat": 4,
  "nbformat_minor": 0
}
